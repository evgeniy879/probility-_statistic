{
 "cells": [
  {
   "cell_type": "code",
   "execution_count": 1,
   "metadata": {},
   "outputs": [],
   "source": [
    "from math import factorial"
   ]
  },
  {
   "cell_type": "code",
   "execution_count": 2,
   "metadata": {},
   "outputs": [],
   "source": [
    "from math import e"
   ]
  },
  {
   "cell_type": "markdown",
   "metadata": {},
   "source": [
    "Вероятность того, что стрелок попадет в мишень, выстрелив один раз, равна 0.8. Стрелок выстрелил 100 раз. Найдите вероятность того, что стрелок попадет в цель ровно 85 раз."
   ]
  },
  {
   "cell_type": "markdown",
   "metadata": {},
   "source": [
    "Это Биноминальное распределение."
   ]
  },
  {
   "cell_type": "code",
   "execution_count": 3,
   "metadata": {},
   "outputs": [
    {
     "name": "stdout",
     "output_type": "stream",
     "text": [
      "вероятность того, что стрелок попадет в цель ровно 85 раз составляет 0.048061793700746556\n"
     ]
    }
   ],
   "source": [
    "probility_1 = int(factorial(100)/(factorial(85) * (factorial(100-85)))) * 0.8**85 * 0.2**15\n",
    "print(f'вероятность того, что стрелок попадет в цель ровно 85 раз составляет {probility_1}')"
   ]
  },
  {
   "cell_type": "markdown",
   "metadata": {},
   "source": [
    "Вероятность того, что лампочка перегорит в течение первого дня эксплуатации, равна 0.0004. В жилом комплексе после ремонта в один день включили 5000 новых лампочек. Какова вероятность, что ни одна из них не перегорит в первый день? Какова вероятность, что перегорят ровно две?"
   ]
  },
  {
   "cell_type": "markdown",
   "metadata": {},
   "source": [
    "Это распределение Пуассона"
   ]
  },
  {
   "cell_type": "markdown",
   "metadata": {},
   "source": [
    "Находим Лямбду"
   ]
  },
  {
   "cell_type": "code",
   "execution_count": 4,
   "metadata": {},
   "outputs": [
    {
     "name": "stdout",
     "output_type": "stream",
     "text": [
      "Значение Лямбды составило 2.0\n"
     ]
    }
   ],
   "source": [
    "lambda_ = 0.0004 * 5000\n",
    "print(f'Значение Лямбды составило {lambda_}')"
   ]
  },
  {
   "cell_type": "code",
   "execution_count": 8,
   "metadata": {},
   "outputs": [
    {
     "name": "stdout",
     "output_type": "stream",
     "text": [
      "Значение вероятности того, что ни одна из лампочек не перегорит в первый день составило 0.1353352832366127\n"
     ]
    }
   ],
   "source": [
    "probility_2 = (lambda_ ** 0 / int(factorial(0))) * e**-lambda_\n",
    "print(f'Значение вероятности того, что ни одна из лампочек не перегорит в первый день составило {probility_2}')"
   ]
  },
  {
   "cell_type": "code",
   "execution_count": 9,
   "metadata": {},
   "outputs": [
    {
     "name": "stdout",
     "output_type": "stream",
     "text": [
      "Значение вероятности того,  что перегорят ровно две лампочки составило 0.2706705664732254\n"
     ]
    }
   ],
   "source": [
    "probility_2_1 = (lambda_ ** 2 / int(factorial(2))) * e**-lambda_\n",
    "print(f'Значение вероятности того,  что перегорят ровно две лампочки составило {probility_2_1}')"
   ]
  },
  {
   "cell_type": "markdown",
   "metadata": {},
   "source": [
    "Монету подбросили 144 раза. Какова вероятность, что орел выпадет ровно 70 раз?"
   ]
  },
  {
   "cell_type": "markdown",
   "metadata": {},
   "source": [
    "Это Биноминальное распределение."
   ]
  },
  {
   "cell_type": "code",
   "execution_count": 10,
   "metadata": {},
   "outputs": [
    {
     "name": "stdout",
     "output_type": "stream",
     "text": [
      "вероятность того, что орел выпадет ровно 70 раз 0.06281178035144776\n"
     ]
    }
   ],
   "source": [
    "probility_3 = int(factorial(144)/(factorial(70) * (factorial(144-70)))) * 0.5**70 * 0.5**74\n",
    "print(f'вероятность того, что орел выпадет ровно 70 раз {probility_3}')"
   ]
  },
  {
   "cell_type": "markdown",
   "metadata": {},
   "source": [
    "В первом ящике находится 10 мячей, из которых 7 - белые. Во втором ящике - 11 мячей, из которых 9 белых. Из каждого ящика вытаскивают случайным образом по два мяча. Какова вероятность того, что все мячи белые? Какова вероятность того, что ровно два мяча белые? Какова вероятность того, что хотя бы один мяч белый?"
   ]
  },
  {
   "cell_type": "markdown",
   "metadata": {},
   "source": [
    "Для начала надем вероятность того, что все мячи белые"
   ]
  },
  {
   "cell_type": "code",
   "execution_count": 11,
   "metadata": {},
   "outputs": [
    {
     "name": "stdout",
     "output_type": "stream",
     "text": [
      "вероятность того, что все мячи белые составляет 0.3054545454545454\n"
     ]
    }
   ],
   "source": [
    "probility_4 = 7/10 * 6/9 * 9/11 * 8/10\n",
    "print(f'вероятность того, что все мячи белые составляет {probility_4}')"
   ]
  },
  {
   "cell_type": "markdown",
   "metadata": {},
   "source": [
    "Находим вероятность того, что ровно два мяча белые"
   ]
  },
  {
   "cell_type": "markdown",
   "metadata": {},
   "source": [
    "Первый вариант:\n",
    "    из одного ящика достаем 1 белый и 1 черный, из другого также 1 белый и 1 черный"
   ]
  },
  {
   "cell_type": "code",
   "execution_count": 32,
   "metadata": {},
   "outputs": [],
   "source": [
    "probility_1_white_1_black = int((factorial(7)/(factorial(1)*factorial(7-1)))\n",
    "                                *(factorial(3)/(factorial(1)*factorial(3-1))))/(factorial(10)/(factorial(2)*factorial(10-2)))* \\\n",
    "                                    int((factorial(9)/(factorial(1)*factorial(9-1)))\n",
    "                                *(factorial(2)/(factorial(1)*factorial(2-1))))/(factorial(11)/(factorial(2)*factorial(11-2)))"
   ]
  },
  {
   "cell_type": "markdown",
   "metadata": {},
   "source": [
    "Второй вариант: из первого ящика достаем только черные шары, из второго ящика только белые"
   ]
  },
  {
   "cell_type": "code",
   "execution_count": 67,
   "metadata": {},
   "outputs": [],
   "source": [
    "probility_0_white_2_white = factorial(3)/(factorial(2)*factorial(3-2)) / (factorial(10)/(factorial(2)*factorial(10-2))) \\\n",
    "                            * factorial(9)/(factorial(2)*factorial(9-2)) / (factorial(11)/(factorial(2)*factorial(11-2)))"
   ]
  },
  {
   "cell_type": "markdown",
   "metadata": {},
   "source": [
    "Третий вариант: из первого ящика достаем два белых шара, из второго ящика 2 черных"
   ]
  },
  {
   "cell_type": "code",
   "execution_count": 53,
   "metadata": {},
   "outputs": [],
   "source": [
    "probility_2_white_0_black = factorial(7)/(factorial(2)*factorial(7-2)) / (factorial(10)/(factorial(2)*factorial(10-2))) \\\n",
    "                            * factorial(2)/(factorial(2)*factorial(2-2)) / (factorial(11)/(factorial(2)*factorial(11-2))) "
   ]
  },
  {
   "cell_type": "code",
   "execution_count": 68,
   "metadata": {},
   "outputs": [
    {
     "name": "stdout",
     "output_type": "stream",
     "text": [
      "Вероятность того, что ровно два мяча белые 0.205\n"
     ]
    }
   ],
   "source": [
    "total_probility = probility_1_white_1_black + probility_0_white_2_white + probility_2_white_0_black\n",
    "print(f'Вероятность того, что ровно два мяча белые {total_probility:.3f}')"
   ]
  },
  {
   "cell_type": "markdown",
   "metadata": {},
   "source": [
    "Находим вероятность  того, что хотя бы один мяч белый?"
   ]
  },
  {
   "cell_type": "markdown",
   "metadata": {},
   "source": [
    "Нам нужна сумма всех вероятностей следующих комбинаций:\n",
    "\n",
    "    Комбинация 1 - 1 ящик: 2 черных, 2 ящик: 1 белый и 1 черный\n",
    "    Комбинация 2 - 1 ящик: 2 черных, 2 ящик: 2 белых\n",
    "    Комбинация 3 - 1 ящик: 1 белый и 1 черный, 2 ящик: 1 белый и 1 черный\n",
    "    Комбинация 4 - 1 ящик: 1 белый и 1 черный, 2 ящик: 2 белых\n",
    "    Комбинация 5 - 1 ящик: 1 белый и 1 черный, 2 ящик: 2 черных\n",
    "    Комбинация 6 - 1 ящик: 2 белых, 2 ящик: 2 черных\n",
    "    Комбинация 7 - 1 ящик: 2 белых, 2 ящик: 1 белый и 1 черный\n",
    "    Комбинация 8 - 1 ящик: 2 белых, 2 ящик: 2 белых"
   ]
  },
  {
   "cell_type": "code",
   "execution_count": 60,
   "metadata": {},
   "outputs": [],
   "source": [
    "probility_com1 = factorial(3)/(factorial(2)*factorial(3-2)) / (factorial(10)/(factorial(2)*factorial(10-2))) *\\\n",
    "                    int((factorial(9)/(factorial(1)*factorial(9-1)))\n",
    "                                *(factorial(2)/(factorial(1)*factorial(2-1))))/(factorial(11)/(factorial(2)*factorial(11-2)))"
   ]
  },
  {
   "cell_type": "code",
   "execution_count": 62,
   "metadata": {},
   "outputs": [],
   "source": [
    "probility_com2 = factorial(3)/(factorial(2)*factorial(3-2)) / (factorial(10)/(factorial(2)*factorial(10-2))) *\\\n",
    "                    factorial(9)/(factorial(2)*factorial(9-2)) / (factorial(11)/(factorial(2)*factorial(11-2)))"
   ]
  },
  {
   "cell_type": "code",
   "execution_count": 64,
   "metadata": {},
   "outputs": [],
   "source": [
    "probility_com3 =int((factorial(7)/(factorial(1)*factorial(7-1)))\n",
    "                                *(factorial(3)/(factorial(1)*factorial(3-1))))/(factorial(10)/(factorial(2)*factorial(10-2)))* \\\n",
    "                                    int((factorial(9)/(factorial(1)*factorial(9-1)))\n",
    "                                *(factorial(2)/(factorial(1)*factorial(2-1))))/(factorial(11)/(factorial(2)*factorial(11-2)))"
   ]
  },
  {
   "cell_type": "code",
   "execution_count": 79,
   "metadata": {},
   "outputs": [],
   "source": [
    "probility_com4 = int((factorial(7)/(factorial(1)*factorial(7-1)))\n",
    "                                *(factorial(3)/(factorial(1)*factorial(3-1))))/(factorial(10)/(factorial(2)*factorial(10-2)))* \\\n",
    "                                 factorial(9)/(factorial(2)*factorial(9-2)) / (factorial(11)/(factorial(2)*factorial(11-2)))"
   ]
  },
  {
   "cell_type": "code",
   "execution_count": 81,
   "metadata": {},
   "outputs": [],
   "source": [
    "probility_com5 = int((factorial(7)/(factorial(1)*factorial(7-1)))\n",
    "                                *(factorial(3)/(factorial(1)*factorial(3-1))))/(factorial(10)/(factorial(2)*factorial(10-2)))* \\\n",
    "                                factorial(2)/(factorial(2)*factorial(2-2)) / (factorial(11)/(factorial(2)*factorial(11-2)))"
   ]
  },
  {
   "cell_type": "code",
   "execution_count": 83,
   "metadata": {},
   "outputs": [],
   "source": [
    "probility_com6 = factorial(7)/(factorial(2)*factorial(7-2)) / (factorial(10)/(factorial(2)*factorial(10-2))) * \\\n",
    "                    factorial(2)/(factorial(2)*factorial(2-2)) / (factorial(11)/(factorial(2)*factorial(11-2)))"
   ]
  },
  {
   "cell_type": "code",
   "execution_count": 85,
   "metadata": {},
   "outputs": [],
   "source": [
    "probility_com7 = factorial(7)/(factorial(2)*factorial(7-2)) / (factorial(10)/(factorial(2)*factorial(10-2))) * \\\n",
    "                    int((factorial(9)/(factorial(1)*factorial(9-1)))\n",
    "                                *(factorial(2)/(factorial(1)*factorial(2-1))))/(factorial(11)/(factorial(2)*factorial(11-2)))"
   ]
  },
  {
   "cell_type": "code",
   "execution_count": 87,
   "metadata": {},
   "outputs": [],
   "source": [
    "probility_com8 = factorial(7)/(factorial(2)*factorial(7-2)) / (factorial(10)/(factorial(2)*factorial(10-2))) * \\\n",
    "                factorial(9)/(factorial(2)*factorial(9-2)) / (factorial(11)/(factorial(2)*factorial(11-2)))"
   ]
  },
  {
   "cell_type": "code",
   "execution_count": 93,
   "metadata": {},
   "outputs": [
    {
     "name": "stdout",
     "output_type": "stream",
     "text": [
      "вероятность того, что хотя бы один мяч белый 0.999\n"
     ]
    }
   ],
   "source": [
    "probility_total_com = probility_com1 + probility_com2 + probility_com3 + probility_com4 + probility_com5 + \\\n",
    "                        probility_com6 + probility_com7 + probility_com8\n",
    "print(f'вероятность того, что хотя бы один мяч белый {probility_total_com:.3f}')"
   ]
  }
 ],
 "metadata": {
  "kernelspec": {
   "display_name": "Python 3",
   "language": "python",
   "name": "python3"
  },
  "language_info": {
   "codemirror_mode": {
    "name": "ipython",
    "version": 3
   },
   "file_extension": ".py",
   "mimetype": "text/x-python",
   "name": "python",
   "nbconvert_exporter": "python",
   "pygments_lexer": "ipython3",
   "version": "3.8.3"
  }
 },
 "nbformat": 4,
 "nbformat_minor": 4
}

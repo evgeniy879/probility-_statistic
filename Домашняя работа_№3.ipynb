{
 "cells": [
  {
   "cell_type": "code",
   "execution_count": 1,
   "metadata": {},
   "outputs": [],
   "source": [
    "import pandas as pd\n",
    "from math import factorial"
   ]
  },
  {
   "cell_type": "markdown",
   "metadata": {},
   "source": [
    "## Задание 1"
   ]
  },
  {
   "cell_type": "markdown",
   "metadata": {},
   "source": [
    "Даны значения зарплат из выборки выпускников: 100, 80, 75, 77, 89, 33, 45, 25, 65, 17, 30, 24, 57, 55, 70, 75, 65, 84, 90, 150. Посчитать (желательно без использования статистических методов наподобие std, var, mean) \n",
    "среднее арифметическое, среднее квадратичное отклонение, смещенную и несмещенную оценки дисперсий для данной выборки."
   ]
  },
  {
   "cell_type": "code",
   "execution_count": 11,
   "metadata": {},
   "outputs": [],
   "source": [
    "def temp(list):\n",
    "    sal_mean = sum(list) / len(list)\n",
    "    temp = []\n",
    "    \n",
    "    for i in list:\n",
    "        temp.append((i - sal_mean) ** 2)\n",
    "    return temp"
   ]
  },
  {
   "cell_type": "code",
   "execution_count": 14,
   "metadata": {},
   "outputs": [],
   "source": [
    "def std(list):\n",
    "    temp_ = temp(list)  \n",
    "    std_sal = (sum(temp_) / len(temp_)) ** 0.5\n",
    "    return std_sal"
   ]
  },
  {
   "cell_type": "code",
   "execution_count": 39,
   "metadata": {},
   "outputs": [],
   "source": [
    "def var1(list):\n",
    "    \n",
    "    temp_ = temp(list)\n",
    "    return sum(temp_) / len(temp_) "
   ]
  },
  {
   "cell_type": "code",
   "execution_count": 42,
   "metadata": {},
   "outputs": [],
   "source": [
    "def var2(list):\n",
    "    \n",
    "    temp_ = temp(list)\n",
    "    return sum(temp_) / (len(temp_) - 1)"
   ]
  },
  {
   "cell_type": "code",
   "execution_count": 6,
   "metadata": {},
   "outputs": [
    {
     "name": "stdout",
     "output_type": "stream",
     "text": [
      "Среднее арифметическое равняется 65.3\n"
     ]
    }
   ],
   "source": [
    "sal = [100, 80, 75, 77, 89, 33, 45, 25, 65, 17, 30, 24, 57, 55, 70, 75, 65, 84, 90, 150]\n",
    "sal_mean = sum(sal) / len(sal)\n",
    "print(f'Среднее арифметическое равняется {sal_mean}')"
   ]
  },
  {
   "cell_type": "code",
   "execution_count": 15,
   "metadata": {},
   "outputs": [
    {
     "name": "stdout",
     "output_type": "stream",
     "text": [
      "Стандартное отклонение равняется 30.823854398825596\n"
     ]
    }
   ],
   "source": [
    "salary_std = std(sal)\n",
    "print(f'Стандартное отклонение равняется {salary_std}')"
   ]
  },
  {
   "cell_type": "code",
   "execution_count": 40,
   "metadata": {},
   "outputs": [
    {
     "name": "stdout",
     "output_type": "stream",
     "text": [
      " Оценка смещенной дисперсии составляет 950.11\n"
     ]
    }
   ],
   "source": [
    "var1 = var1(sal)\n",
    "print(f' Оценка смещенной дисперсии составляет {var1}')"
   ]
  },
  {
   "cell_type": "code",
   "execution_count": 43,
   "metadata": {},
   "outputs": [
    {
     "name": "stdout",
     "output_type": "stream",
     "text": [
      "Оценка несмещенной дисперсии составляет 1000.1157894736842\n"
     ]
    }
   ],
   "source": [
    "var2 = var2(sal)\n",
    "print(f'Оценка несмещенной дисперсии составляет {var2}')"
   ]
  },
  {
   "cell_type": "markdown",
   "metadata": {},
   "source": [
    "## Задание 2"
   ]
  },
  {
   "cell_type": "markdown",
   "metadata": {},
   "source": [
    "В первом ящике находится 8 мячей, из которых 5 - белые. Во втором ящике - 12 мячей, из которых 5 белых. Из первого ящика вытаскивают случайным образом два мяча, из второго - 4. Какова вероятность того, что 3 мяча белые?"
   ]
  },
  {
   "cell_type": "code",
   "execution_count": 44,
   "metadata": {},
   "outputs": [],
   "source": [
    "def combination(n, k):\n",
    "    return int(factorial(n) / (factorial(k) * factorial(n - k)))"
   ]
  },
  {
   "cell_type": "code",
   "execution_count": 45,
   "metadata": {},
   "outputs": [],
   "source": [
    "total_combination1 = combination(8, 2)\n",
    "total_combination2 = combination(12, 4)"
   ]
  },
  {
   "cell_type": "code",
   "execution_count": 49,
   "metadata": {},
   "outputs": [
    {
     "name": "stdout",
     "output_type": "stream",
     "text": [
      " Вероятность того, что 3 мяча белые составляет 0.3686868686868687\n"
     ]
    }
   ],
   "source": [
    "p1 = (combination(3, 2) / total_combination1) * (combination(5, 3) * combination(7, 1) / total_combination2)\n",
    "p2 = (combination(5, 2) / total_combination1) * (combination(5, 1) * combination(7, 3) / total_combination2)\n",
    "p3 = (combination(5, 1) * combination(3, 1) / total_combination1) * (combination(5, 2) * combination(7, 2) / total_combination2)\n",
    "\n",
    "total_P = p1 + p2 + p3\n",
    "print(f' Вероятность того, что 3 мяча белые составляет {total_P}')"
   ]
  },
  {
   "cell_type": "markdown",
   "metadata": {},
   "source": [
    "## Задание 3"
   ]
  },
  {
   "cell_type": "markdown",
   "metadata": {},
   "source": [
    "На соревновании по биатлону один из трех спортсменов стреляет и попадает в мишень. Вероятность попадания для первого спортсмена равна 0.9, для второго — 0.8, для третьего — 0.6. Найти вероятность того, что выстрел произведен: a). первым спортсменом б). вторым спортсменом в). третьим спортсменом."
   ]
  },
  {
   "cell_type": "code",
   "execution_count": 50,
   "metadata": {},
   "outputs": [],
   "source": [
    "total_p = (1/3 * 0.9) +  (1/3 * 0.8) +  (1/3 * 0.6)"
   ]
  },
  {
   "cell_type": "code",
   "execution_count": 52,
   "metadata": {},
   "outputs": [
    {
     "name": "stdout",
     "output_type": "stream",
     "text": [
      "Вероятность попадания для первого спортсмена составляет 0.391304347826087\n",
      "Вероятность попадания для второго спортсмена составляет 0.3478260869565218\n",
      "Вероятность попадания для третьего спортсмена составляет 0.2608695652173913\n"
     ]
    }
   ],
   "source": [
    "print(f'Вероятность попадания для первого спортсмена составляет {(1/3 * 0.9) / total_p}')\n",
    "print(f'Вероятность попадания для второго спортсмена составляет {(1/3 * 0.8) / total_p}')\n",
    "print(f'Вероятность попадания для третьего спортсмена составляет {(1/3 * 0.6) / total_p}')"
   ]
  },
  {
   "cell_type": "markdown",
   "metadata": {},
   "source": [
    "## Задание 4"
   ]
  },
  {
   "cell_type": "markdown",
   "metadata": {},
   "source": [
    "В университет на факультеты A и B поступило равное количество студентов, а на факультет C студентов поступило столько же, сколько на A и B вместе. Вероятность того, что студент факультета A сдаст первую сессию, равна 0.8. Для студента факультета B эта вероятность равна 0.7, а для студента факультета C - 0.9. Студент сдал первую сессию. Какова вероятность, что он учится: a). на факультете A б). на факультете B в). на факультете C?"
   ]
  },
  {
   "cell_type": "code",
   "execution_count": 53,
   "metadata": {},
   "outputs": [],
   "source": [
    "total_p_ = (1/4 * 0.8) +  (1/4 * 0.7) +  (1/2 * 0.9)"
   ]
  },
  {
   "cell_type": "code",
   "execution_count": 54,
   "metadata": {},
   "outputs": [
    {
     "name": "stdout",
     "output_type": "stream",
     "text": [
      "Вероятность, что студен учится: на факультете А составляет 0.24242424242424246\n",
      "Вероятность, что студен учится: на факультете В составляет 0.21212121212121213\n",
      "Вероятность, что студен учится: на факультете С составляет 0.5454545454545455\n"
     ]
    }
   ],
   "source": [
    "print(f'Вероятность, что студен учится: на факультете А составляет {(1/4 * 0.8) / total_p_}')\n",
    "print(f'Вероятность, что студен учится: на факультете В составляет {(1/4 * 0.7) / total_p_}')\n",
    "print(f'Вероятность, что студен учится: на факультете С составляет {(1/2 * 0.9) / total_p_}')"
   ]
  },
  {
   "cell_type": "markdown",
   "metadata": {},
   "source": [
    "## Задание 5"
   ]
  },
  {
   "cell_type": "markdown",
   "metadata": {},
   "source": [
    "Устройство состоит из трех деталей. Для первой детали вероятность выйти из строя в первый месяц равна 0.1, для второй - 0.2, для третьей - 0.25. Какова вероятность того, что в первый месяц выйдут из строя: а). все детали б). только две детали в). хотя бы одна деталь г). от одной до двух деталей?"
   ]
  },
  {
   "cell_type": "code",
   "execution_count": 58,
   "metadata": {},
   "outputs": [
    {
     "name": "stdout",
     "output_type": "stream",
     "text": [
      "Вероятность того, что в первый месяц выйдут из строя из строя только две детали составляет 0.005000000000000001\n"
     ]
    }
   ],
   "source": [
    "print(f'Вероятность того, что в первый месяц выйдут из строя из строя только две детали составляет {0.1*0.2*0.25}')"
   ]
  },
  {
   "cell_type": "code",
   "execution_count": 59,
   "metadata": {},
   "outputs": [
    {
     "name": "stdout",
     "output_type": "stream",
     "text": [
      "Вероятность того, что в первый месяц выйдут из строя только две детали составляет 0.08000000000000002\n"
     ]
    }
   ],
   "source": [
    "broken_2 = (0.1*0.2*(1-0.25))+(0.1*0.25*(1-0.2))+(0.2*0.25*(1-0.1))\n",
    "print(f'Вероятность того, что в первый месяц выйдут из строя только две детали составляет {broken_2}')"
   ]
  },
  {
   "cell_type": "code",
   "execution_count": 60,
   "metadata": {},
   "outputs": [
    {
     "name": "stdout",
     "output_type": "stream",
     "text": [
      "Вероятность того, что в первый месяц выйдут из строя хотя бы одна деталь составляет 0.46000000000000013\n"
     ]
    }
   ],
   "source": [
    "broken_1 = (0.1*(1-0.2)*(1-0.25))+((1-0.1)*0.25*(1-0.2))+(0.2*(1-0.25)*(1-0.1))\n",
    "broken_2 = (0.1*0.2*(1-0.25))+(0.1*0.25*(1-0.2))+(0.2*0.25*(1-0.1))\n",
    "broken_3 = (0.1*0.2*0.25)\n",
    "broken_ = broken_1 + broken_2 + broken_3\n",
    "print(f'Вероятность того, что в первый месяц выйдут из строя хотя бы одна деталь составляет {broken_}')"
   ]
  },
  {
   "cell_type": "code",
   "execution_count": 61,
   "metadata": {},
   "outputs": [
    {
     "name": "stdout",
     "output_type": "stream",
     "text": [
      "Вероятность того, что в первый месяц выйдут строя от одной до двух деталей составляет 0.4550000000000001\n"
     ]
    }
   ],
   "source": [
    "broken_1 = (0.1*(1-0.2)*(1-0.25))+((1-0.1)*0.25*(1-0.2))+(0.2*(1-0.25)*(1-0.1))\n",
    "broken_2 = (0.1*0.2*(1-0.25))+(0.1*0.25*(1-0.2))+(0.2*0.25*(1-0.1))\n",
    "print(f'Вероятность того, что в первый месяц выйдут строя от одной до двух деталей составляет {broken_1+broken_2}')"
   ]
  }
 ],
 "metadata": {
  "kernelspec": {
   "display_name": "Python 3",
   "language": "python",
   "name": "python3"
  },
  "language_info": {
   "codemirror_mode": {
    "name": "ipython",
    "version": 3
   },
   "file_extension": ".py",
   "mimetype": "text/x-python",
   "name": "python",
   "nbconvert_exporter": "python",
   "pygments_lexer": "ipython3",
   "version": "3.8.3"
  }
 },
 "nbformat": 4,
 "nbformat_minor": 4
}
